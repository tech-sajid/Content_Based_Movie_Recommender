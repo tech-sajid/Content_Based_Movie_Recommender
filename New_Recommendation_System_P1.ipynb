{
  "nbformat": 4,
  "nbformat_minor": 0,
  "metadata": {
    "colab": {
      "provenance": []
    },
    "kernelspec": {
      "name": "python3",
      "display_name": "Python 3"
    },
    "language_info": {
      "name": "python"
    }
  },
  "cells": [
    {
      "cell_type": "code",
      "source": [
        "from google.colab import drive\n",
        "drive.mount('/content/drive')"
      ],
      "metadata": {
        "colab": {
          "base_uri": "https://localhost:8080/"
        },
        "id": "BNWjkTKFaF1D",
        "outputId": "08ba9666-1c4a-4a27-9dec-babc76f0718d"
      },
      "execution_count": 25,
      "outputs": [
        {
          "output_type": "stream",
          "name": "stdout",
          "text": [
            "Drive already mounted at /content/drive; to attempt to forcibly remount, call drive.mount(\"/content/drive\", force_remount=True).\n"
          ]
        }
      ]
    },
    {
      "cell_type": "code",
      "execution_count": 26,
      "metadata": {
        "id": "eZpzc_VXZYG0"
      },
      "outputs": [],
      "source": [
        "import numpy as np\n",
        "import pandas as pd\n",
        "import ast\n",
        "from nltk.stem.porter import PorterStemmer\n",
        "from sklearn.feature_extraction.text import CountVectorizer\n",
        "from sklearn.metrics.pairwise import cosine_similarity\n",
        "import warnings\n",
        "warnings.simplefilter(action='ignore', category=pd.errors.SettingWithCopyWarning)"
      ]
    },
    {
      "cell_type": "code",
      "source": [
        "file_path1 = \"/content/drive/MyDrive/Movie_Recommendation_Systems/Movie_Data/tmdb_5000_movies.csv\"\n",
        "file_path2 = \"/content/drive/MyDrive/Movie_Recommendation_Systems/Movie_Data/tmdb_5000_credits.csv\"\n",
        "movies_df = pd.read_csv(file_path1)\n",
        "credits_df = pd.read_csv(file_path2)"
      ],
      "metadata": {
        "id": "02dmaon1TIXC"
      },
      "execution_count": 27,
      "outputs": []
    },
    {
      "cell_type": "code",
      "source": [
        "def convert(obj):\n",
        "    return [i['name'] for i in ast.literal_eval(obj)]\n",
        "\n",
        "def convert2(obj):\n",
        "    if isinstance(obj, str):\n",
        "        obj = ast.literal_eval(obj)\n",
        "    return [i for i in obj[:3]]\n",
        "\n",
        "def fetch_director(obj):\n",
        "    L = []\n",
        "    for i in ast.literal_eval(obj):\n",
        "        if i['job'] == 'Director':\n",
        "            L.append(i['name'])\n",
        "            break\n",
        "    return L\n",
        "\n",
        "def stem(text):\n",
        "    ps = PorterStemmer()\n",
        "    y = []\n",
        "    for i in text.split():\n",
        "        y.append(ps.stem(i))\n",
        "    return \" \".join(y)\n",
        "\n",
        "def recommend(movie):\n",
        "    movie_index = new_df[new_df['title'] == movie].index[0]\n",
        "    distances = similarity[movie_index]\n",
        "    movies_list = sorted(list(enumerate(distances)), reverse=True, key=lambda x:x[1])[1:11]\n",
        "    for i in movies_list:\n",
        "      print(new_df.iloc[i[0]].title)"
      ],
      "metadata": {
        "id": "p90sHrd9TZUC"
      },
      "execution_count": 28,
      "outputs": []
    },
    {
      "cell_type": "code",
      "source": [
        "def main(movies_df, credits_df):\n",
        "    movies = movies_df.merge(credits_df,on='title')\n",
        "    movies = movies[['movie_id', 'title','overview','genres','keywords','cast','crew']]\n",
        "    movies.dropna(inplace=True)\n",
        "    movies['genres'] = movies['genres'].apply(lambda x: convert(x))\n",
        "    movies['keywords'] = movies['keywords'].apply(lambda x : convert(x))\n",
        "    movies['cast'] = movies['cast'].apply(lambda x : convert2(x))\n",
        "    movies['crew'] = movies['crew'].apply(fetch_director)\n",
        "    movies['overview'] = movies['overview'].apply(lambda x: x.split())\n",
        "    movies['genres'] = movies['genres'].apply(lambda x:[i.replace(\" \", \"\") for i in x])\n",
        "    movies['keywords'] = movies['keywords'].apply(lambda x:[i.replace(\" \", \"\") for i in x])\n",
        "    movies['cast'] = movies['cast'].apply(lambda x: [i['name'].replace(\" \", \"\") for i in x])\n",
        "    movies['crew'] = movies['crew'].apply(lambda x:[i.replace(\" \", \"\") for i in x])\n",
        "    movies['tags'] = movies['overview'] + movies['genres'] + movies['keywords'] + movies['cast'] + movies['crew']\n",
        "    new_df = movies[['movie_id','title','tags']]\n",
        "    new_df['tags'] = new_df['tags'].apply(lambda x: \" \".join(x))\n",
        "    new_df['tags'] = new_df['tags'].apply(lambda x:x.lower())\n",
        "    new_df['tags'] = new_df['tags'].apply(stem)\n",
        "    cv = CountVectorizer(max_features=5000, stop_words='english')\n",
        "    vectors = cv.fit_transform(new_df['tags']).toarray()\n",
        "    similarity = cosine_similarity(vectors)\n",
        "    movie_name = input(\"Enter the name of the movie for recommendation: \")\n",
        "    reco_output = recommend(movie_name)\n",
        "    return reco_output"
      ],
      "metadata": {
        "id": "lbbojlWWTMp7"
      },
      "execution_count": 29,
      "outputs": []
    },
    {
      "cell_type": "code",
      "source": [
        "if __name__ == \"__main__\":\n",
        "    recommended_names = main(movies_df, credits_df)\n",
        "    print(recommended_names)"
      ],
      "metadata": {
        "colab": {
          "base_uri": "https://localhost:8080/"
        },
        "id": "NKg9xacpTY3a",
        "outputId": "9e595e0b-4e07-459e-ccf5-a792bef785ce"
      },
      "execution_count": 30,
      "outputs": [
        {
          "output_type": "stream",
          "name": "stdout",
          "text": [
            "Enter the name of the movie for recommendation: Avatar\n",
            "Aliens vs Predator: Requiem\n",
            "Aliens\n",
            "Falcon Rising\n",
            "Independence Day\n",
            "Titan A.E.\n",
            "Battle: Los Angeles\n",
            "Predators\n",
            "Small Soldiers\n",
            "Jupiter Ascending\n",
            "Meet Dave\n",
            "None\n"
          ]
        }
      ]
    },
    {
      "cell_type": "code",
      "source": [
        "import pickle\n",
        "pickle.dump(new_df, open('movies.pkl', 'wb'))"
      ],
      "metadata": {
        "id": "jJaBG1JQdFkP"
      },
      "execution_count": 31,
      "outputs": []
    }
  ]
}